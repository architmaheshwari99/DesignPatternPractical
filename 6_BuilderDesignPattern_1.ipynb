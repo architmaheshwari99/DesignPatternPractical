{
 "cells": [
  {
   "cell_type": "code",
   "execution_count": 1,
   "metadata": {},
   "outputs": [
    {
     "name": "stdout",
     "output_type": "stream",
     "text": [
      "<p>hello</p>\n"
     ]
    }
   ],
   "source": [
    "text = 'hello'\n",
    "parts = ['<p>', text, '</p>']\n",
    "print(''.join(parts))"
   ]
  },
  {
   "cell_type": "code",
   "execution_count": 4,
   "metadata": {},
   "outputs": [
    {
     "name": "stdout",
     "output_type": "stream",
     "text": [
      "<ul>\n",
      "     <li>hello</li>\n",
      "     <li>world</li>\n",
      "</ul>\n"
     ]
    }
   ],
   "source": [
    "words = ['hello', 'world']\n",
    "parts = ['<ul>']\n",
    "for w in words:\n",
    "    parts.append(f\"     <li>{w}</li>\")\n",
    "parts.append(f\"</ul>\")\n",
    "print('\\n'.join(parts))"
   ]
  },
  {
   "cell_type": "code",
   "execution_count": 7,
   "metadata": {},
   "outputs": [
    {
     "name": "stdout",
     "output_type": "stream",
     "text": [
      "<ul>\n",
      "</ul>\n"
     ]
    }
   ],
   "source": [
    "class HTMLElement:\n",
    "    indent_size = 2\n",
    "\n",
    "    def __init__(self, name='', text=''):\n",
    "        self.name = name\n",
    "        self.text = text\n",
    "        self.elements = []\n",
    "\n",
    "    def __str(self, indent):\n",
    "        lines = []\n",
    "        i = ' ' * (indent * self.indent_size)\n",
    "        lines.append(f\"{i}<{self.name}>\")\n",
    "\n",
    "        if self.text:\n",
    "            i1 = ' ' * ((indent + 1) * self.indent_size)\n",
    "            lines.append(f\"{i1}{self.text}\")\n",
    "        \n",
    "        for e in self.elements:\n",
    "            lines.append(e.__str(indent+1))\n",
    "\n",
    "        lines.append(f\"{i}</{self.name}>\")\n",
    "\n",
    "        return '\\n'.join(lines)\n",
    "\n",
    "    def __str__(self):\n",
    "        return self.__str(0)\n",
    "\n",
    "    # @staticmethod\n",
    "    # def create(name):\n",
    "    #     return HTMLBuilder(name)\n",
    "\n",
    "\n",
    "class HTMLBuilder:\n",
    "    def __init__(self, root_name):\n",
    "        self.root_name = root_name\n",
    "        self.__root = HTMLElement(name=root_name)\n",
    "\n",
    "    def add_child(self, child_name, child_text):\n",
    "        self.__root.elements.append(HTMLElement(child_name, child_text))\n",
    "\n",
    "    \n",
    "    def add_child_fluent(self, child_name, child_text):\n",
    "        self.__root.elements.append(HTMLElement(child_name, child_text))\n",
    "        return self\n",
    "\n",
    "    def __str__(self):\n",
    "        return str(self.__root)\n",
    "\n",
    "builder = HTMLBuilder('ul')\n",
    "# builder.add_child('li', 'hello')\n",
    "# builder.add_child('li', 'world')\n",
    "# builder.add_child_fluent('li', 'world').add_child_fluent('li', 'world')\n",
    "print(builder)\n",
    "    "
   ]
  }
 ],
 "metadata": {
  "kernelspec": {
   "display_name": "Python 3.8.9 64-bit",
   "language": "python",
   "name": "python3"
  },
  "language_info": {
   "codemirror_mode": {
    "name": "ipython",
    "version": 3
   },
   "file_extension": ".py",
   "mimetype": "text/x-python",
   "name": "python",
   "nbconvert_exporter": "python",
   "pygments_lexer": "ipython3",
   "version": "3.8.9"
  },
  "orig_nbformat": 4,
  "vscode": {
   "interpreter": {
    "hash": "31f2aee4e71d21fbe5cf8b01ff0e069b9275f58929596ceb00d14d90e3e16cd6"
   }
  }
 },
 "nbformat": 4,
 "nbformat_minor": 2
}
