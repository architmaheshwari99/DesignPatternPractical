{
 "cells": [
  {
   "cell_type": "code",
   "execution_count": 2,
   "metadata": {},
   "outputs": [
    {
     "name": "stdout",
     "output_type": "stream",
     "text": [
      "Address: 123 London Road, None,London Employed at None as a None earning 20000000\n"
     ]
    }
   ],
   "source": [
    "class Person:\n",
    "    def __init__(self):\n",
    "        #address \n",
    "        self.street_address = None\n",
    "        self.postcode = None\n",
    "        self.city = None \n",
    "        #employment \n",
    "        self.company_name = None \n",
    "        self.position = None \n",
    "        self.annual_income = None \n",
    "\n",
    "    def __str__(self) -> str: \n",
    "        return f\"Address: {self.street_address}, {self.postcode},{self.city} \" +\\\n",
    "            f\"Employed at {self.company_name} as a {self.postcode} earning {self.annual_income}\"\n",
    "\n",
    "    \n",
    "class PersonBuilder:\n",
    "    def __init__(self, person=Person()):\n",
    "        self.person = person \n",
    "\n",
    "    @property\n",
    "    def lives(self):\n",
    "        return PersonAddressBuilder(self.person)\n",
    "\n",
    "    @property\n",
    "    def works(self):\n",
    "        return PersonJobBuilder(self.person) \n",
    "\n",
    "    def build(self):\n",
    "        return self.person\n",
    "\n",
    "class PersonJobBuilder(PersonBuilder):\n",
    "    def __init__(self, person):\n",
    "        return super().__init__(person) \n",
    "\n",
    "    def at(self, company_name):\n",
    "        self.person.company = company_name\n",
    "        return self \n",
    "\n",
    "    def as_a(self, position):\n",
    "        self.person.position = position\n",
    "        return self \n",
    "\n",
    "    def earning(self, annual_income):\n",
    "        self.person.annual_income = annual_income\n",
    "        return self \n",
    "\n",
    "\n",
    "class PersonAddressBuilder(PersonBuilder):\n",
    "\n",
    "    def __init__(self, person):\n",
    "        return super().__init__(person) \n",
    "\n",
    "    def at(self, street_address):\n",
    "        self.person.street_address = street_address\n",
    "        return self \n",
    "\n",
    "    def with_postal_code(self, postal_code):\n",
    "        self.person.postal_code = postal_code\n",
    "        return self \n",
    "\n",
    "    def in_city(self, city):\n",
    "        self.person.city = city\n",
    "        return self \n",
    "\n",
    "\n",
    "pb = PersonBuilder()\n",
    "person = pb\\\n",
    "    .lives\\\n",
    "        .at('123 London Road')\\\n",
    "        .in_city('London')\\\n",
    "        .with_postal_code('SW12BC')\\\n",
    "    .works\\\n",
    "        .at('PayU')\\\n",
    "        .as_a('SWE')\\\n",
    "        .earning('20000000')\\\n",
    "    .build()\n",
    "    \n",
    "\n",
    "print(person)        \n",
    "\n",
    "\n",
    "    \n",
    "\n",
    "    \n",
    "\n"
   ]
  }
 ],
 "metadata": {
  "kernelspec": {
   "display_name": "Python 3.8.9 64-bit",
   "language": "python",
   "name": "python3"
  },
  "language_info": {
   "codemirror_mode": {
    "name": "ipython",
    "version": 3
   },
   "file_extension": ".py",
   "mimetype": "text/x-python",
   "name": "python",
   "nbconvert_exporter": "python",
   "pygments_lexer": "ipython3",
   "version": "3.8.9"
  },
  "orig_nbformat": 4,
  "vscode": {
   "interpreter": {
    "hash": "31f2aee4e71d21fbe5cf8b01ff0e069b9275f58929596ceb00d14d90e3e16cd6"
   }
  }
 },
 "nbformat": 4,
 "nbformat_minor": 2
}
