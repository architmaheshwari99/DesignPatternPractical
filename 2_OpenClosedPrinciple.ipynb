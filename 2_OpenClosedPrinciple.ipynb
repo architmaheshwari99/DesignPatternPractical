{
 "cells": [
  {
   "cell_type": "code",
   "execution_count": 2,
   "metadata": {},
   "outputs": [],
   "source": [
    "from enum import Enum\n",
    "\n",
    "class Color(Enum):\n",
    "    RED = 1\n",
    "    BLUE = 2\n",
    "    GREEN = 3\n",
    "\n",
    "class Size(Enum):\n",
    "    SMALL = 1\n",
    "    MEDIUM = 2\n",
    "    LARGE = 3\n",
    "\n",
    "class Product:\n",
    "    def __init__(self, name, color, size):\n",
    "        self.name = name\n",
    "        self.color = color\n",
    "        self.size = size\n",
    "\n",
    "\n",
    "class ProductFilter:\n",
    "    def filter_by_color(self, products, color):\n",
    "        for p in products:\n",
    "            if p.color == color: yield p\n",
    "\n",
    "    def filter_by_size(self, products, size):\n",
    "        for p in products:\n",
    "            if p.size == size: yield p"
   ]
  },
  {
   "cell_type": "code",
   "execution_count": 10,
   "metadata": {},
   "outputs": [
    {
     "name": "stdout",
     "output_type": "stream",
     "text": [
      "Apple\n",
      "House\n",
      "House\n",
      "House\n"
     ]
    }
   ],
   "source": [
    "class Specification:\n",
    "    def is_satisfied(self, item):\n",
    "        pass \n",
    "\n",
    "    def __and__(self, other):\n",
    "        return ANDSpecification(self, other)\n",
    "\n",
    "class Filter:\n",
    "    def filter(self, item, spec):\n",
    "        pass \n",
    "\n",
    "class ColorSpecification(Specification):\n",
    "    def __init__(self, color):\n",
    "        self.color = color\n",
    "\n",
    "    def is_satisfied(self, item):\n",
    "        return item.color == self.color\n",
    "\n",
    "class SizeSpecification(Specification):\n",
    "    def __init__(self, size):\n",
    "        self.size = size\n",
    "\n",
    "    def is_satisfied(self, item):\n",
    "        return item.size == self.size\n",
    "\n",
    "\n",
    "class BettterFilter(Filter):\n",
    "    def filter(self, items, spec):\n",
    "        for item in items:\n",
    "            if spec.is_satisfied(item): \n",
    "                yield item\n",
    "\n",
    "class ANDSpecification(Specification):\n",
    "    def __init__(self, *args):\n",
    "        self.args = args\n",
    "\n",
    "    def is_satisfied(self, item):\n",
    "        return all(map(\n",
    "            lambda spec: spec.is_satisfied(item), self.args\n",
    "        ))\n",
    "\n",
    "apple = Product('Apple', Color.GREEN, Size.SMALL)\n",
    "house = Product('House', Color.GREEN, Size.LARGE)\n",
    "leaf = Product('Leaf', Color.RED, Size.SMALL)\n",
    "\n",
    "# old approach\n",
    "products = [apple, house, leaf]\n",
    "# pf = ProductFilter()\n",
    "# for p in pf.filter_by_color(products, Color.GREEN):\n",
    "#     print(f\"{p.name} is GREEN\")\n",
    "\n",
    "\n",
    "green = ColorSpecification(Color.GREEN)\n",
    "large = SizeSpecification(Size.LARGE)\n",
    "bf = BettterFilter()\n",
    "for p in bf.filter(products, green):\n",
    "    print(p.name)\n",
    "\n",
    "for p in bf.filter(products, large):\n",
    "    print(p.name)\n",
    "\n",
    "large_blue = ANDSpecification(green, large)\n",
    "for p in bf.filter(products, large):\n",
    "    print(p.name)"
   ]
  }
 ],
 "metadata": {
  "kernelspec": {
   "display_name": "Python 3.8.9 64-bit",
   "language": "python",
   "name": "python3"
  },
  "language_info": {
   "codemirror_mode": {
    "name": "ipython",
    "version": 3
   },
   "file_extension": ".py",
   "mimetype": "text/x-python",
   "name": "python",
   "nbconvert_exporter": "python",
   "pygments_lexer": "ipython3",
   "version": "3.8.9"
  },
  "orig_nbformat": 4,
  "vscode": {
   "interpreter": {
    "hash": "31f2aee4e71d21fbe5cf8b01ff0e069b9275f58929596ceb00d14d90e3e16cd6"
   }
  }
 },
 "nbformat": 4,
 "nbformat_minor": 2
}
