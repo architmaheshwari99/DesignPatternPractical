{
 "cells": [
  {
   "cell_type": "code",
   "execution_count": 2,
   "metadata": {},
   "outputs": [
    {
     "name": "stdout",
     "output_type": "stream",
     "text": [
      "John has a child Chris\n",
      "John has a child Matt\n"
     ]
    }
   ],
   "source": [
    "from enum import Enum\n",
    "\n",
    "\n",
    "class Relationship(Enum):\n",
    "    PARENT = 0\n",
    "    CHILD = 1\n",
    "    SIBLING = 2\n",
    "\n",
    "class Person:\n",
    "    def __init__(self, name):\n",
    "        self.name = name \n",
    "\n",
    "class Relationships:\n",
    "    def __init__(self):\n",
    "        self.relationships = [] \n",
    "\n",
    "    def add_parent_and_child(self, parent, child):\n",
    "        self.relationships.append((parent, Relationship.PARENT, child))\n",
    "        self.relationships.append((child, Relationship.CHILD, parent))\n",
    "\n",
    "class Research:\n",
    "    def __init__(self, relationships):\n",
    "        relations = relationships.relationships \n",
    "        for r in relations:\n",
    "            if r[0].name == 'John' and r[1] == Relationship.PARENT:\n",
    "                print(f\"John has a child {r[2].name}\")\n",
    "    \n",
    "parent = Person('John')\n",
    "child1 = Person('Chris')\n",
    "child2 = Person('Matt')\n",
    "\n",
    "relationship = Relationships()\n",
    "relationship.add_parent_and_child(parent, child1)\n",
    "relationship.add_parent_and_child(parent, child2)\n",
    "\n",
    "research = Research(relationship)\n"
   ]
  },
  {
   "cell_type": "code",
   "execution_count": 4,
   "metadata": {},
   "outputs": [
    {
     "name": "stdout",
     "output_type": "stream",
     "text": [
      "John has a child Chris\n",
      "John has a child Matt\n"
     ]
    }
   ],
   "source": [
    "from abc import abstractmethod\n",
    "from enum import Enum\n",
    "\n",
    "\n",
    "class Relationship(Enum):\n",
    "    PARENT = 0\n",
    "    CHILD = 1\n",
    "    SIBLING = 2\n",
    "\n",
    "class Person:\n",
    "    def __init__(self, name):\n",
    "        self.name = name \n",
    "\n",
    "\n",
    "# Research should not depend on the concrete implementation of\n",
    "# Relationship, but a abstract implementation\n",
    "\n",
    "class RelationshipBrowser:\n",
    "    @abstractmethod\n",
    "    def find_all_children_of(self, name):\n",
    "        pass\n",
    "\n",
    "class Relationships(RelationshipBrowser): # low level\n",
    "    def __init__(self):\n",
    "        self.relationships = [] \n",
    "\n",
    "    def add_parent_and_child(self, parent, child):\n",
    "        self.relationships.append((parent, Relationship.PARENT, child))\n",
    "        self.relationships.append((child, Relationship.CHILD, parent))\n",
    "\n",
    "    def find_all_children_of(self, name):\n",
    "        for r in self.relationships:\n",
    "            if r[0].name == name and r[1] == Relationship.PARENT:\n",
    "                yield r[2].name\n",
    "\n",
    "class Research: # high level/client \n",
    "    def __init__(self, browser):\n",
    "        for p in browser.find_all_children_of('John'):\n",
    "            print(f\"John has a child {p}\")\n",
    "    \n",
    "parent = Person('John')\n",
    "child1 = Person('Chris')\n",
    "child2 = Person('Matt')\n",
    "\n",
    "relationship = Relationships()\n",
    "relationship.add_parent_and_child(parent, child1)\n",
    "relationship.add_parent_and_child(parent, child2)\n",
    "\n",
    "research = Research(relationship)\n"
   ]
  }
 ],
 "metadata": {
  "kernelspec": {
   "display_name": "Python 3.8.9 64-bit",
   "language": "python",
   "name": "python3"
  },
  "language_info": {
   "codemirror_mode": {
    "name": "ipython",
    "version": 3
   },
   "file_extension": ".py",
   "mimetype": "text/x-python",
   "name": "python",
   "nbconvert_exporter": "python",
   "pygments_lexer": "ipython3",
   "version": "3.8.9"
  },
  "orig_nbformat": 4,
  "vscode": {
   "interpreter": {
    "hash": "31f2aee4e71d21fbe5cf8b01ff0e069b9275f58929596ceb00d14d90e3e16cd6"
   }
  }
 },
 "nbformat": 4,
 "nbformat_minor": 2
}
