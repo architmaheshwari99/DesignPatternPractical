{
 "cells": [
  {
   "cell_type": "code",
   "execution_count": 6,
   "metadata": {},
   "outputs": [
    {
     "name": "stdout",
     "output_type": "stream",
     "text": [
      "Archit born on 13/12/1998 works as SWE\n"
     ]
    }
   ],
   "source": [
    "\"\"\" \n",
    "In the previous implementation of builder design pattern we saw that everytime \n",
    "we need to change the Low Level Module to add new attributes to the Person. \n",
    "This breaks the OCP. We will extent the builders using inheritance to solve \n",
    "the problem. \n",
    "\"\"\"\n",
    "class Person:\n",
    "    def __init__(self):\n",
    "        self.name = None\n",
    "        self.position = None\n",
    "        self.date_of_birth = None\n",
    "\n",
    "    def __str__(self):\n",
    "        return f\"{self.name} born on {self.date_of_birth} \" +\\\n",
    "            f\"works as {self.position}\"\n",
    "\n",
    "    @staticmethod\n",
    "    def new():\n",
    "        return PersonBuilder()\n",
    "\n",
    "class PersonBuilder: \n",
    "    def __init__(self):\n",
    "        self.person = Person()\n",
    "\n",
    "    def build(self):\n",
    "        return self.person\n",
    "\n",
    "class PersonInfoBuilder(PersonBuilder):\n",
    "    def called(self, name):\n",
    "        self.person.name = name\n",
    "        return self \n",
    "\n",
    "class PersonJobBuilder(PersonInfoBuilder):\n",
    "    def works_as_a(self, position):\n",
    "        self.person.position = position\n",
    "        return self \n",
    "\n",
    "class PersonBirthDateBuilder(PersonJobBuilder):\n",
    "    def born(self, date_of_birth):\n",
    "        self.person.date_of_birth = date_of_birth\n",
    "        return self \n",
    "\n",
    "pb = PersonBirthDateBuilder()\n",
    "me = pb\\\n",
    "    .called('Archit')\\\n",
    "    .works_as_a('SWE')\\\n",
    "    .born('13/12/1998')\\\n",
    "    .build() \n",
    "print(me)"
   ]
  },
  {
   "cell_type": "code",
   "execution_count": null,
   "metadata": {},
   "outputs": [],
   "source": []
  }
 ],
 "metadata": {
  "kernelspec": {
   "display_name": "Python 3.8.9 64-bit",
   "language": "python",
   "name": "python3"
  },
  "language_info": {
   "codemirror_mode": {
    "name": "ipython",
    "version": 3
   },
   "file_extension": ".py",
   "mimetype": "text/x-python",
   "name": "python",
   "nbconvert_exporter": "python",
   "pygments_lexer": "ipython3",
   "version": "3.8.9"
  },
  "orig_nbformat": 4,
  "vscode": {
   "interpreter": {
    "hash": "31f2aee4e71d21fbe5cf8b01ff0e069b9275f58929596ceb00d14d90e3e16cd6"
   }
  }
 },
 "nbformat": 4,
 "nbformat_minor": 2
}
