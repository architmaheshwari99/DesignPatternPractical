{
 "cells": [
  {
   "cell_type": "code",
   "execution_count": 1,
   "metadata": {},
   "outputs": [
    {
     "name": "stdout",
     "output_type": "stream",
     "text": [
      "I ate a bug\n",
      "I am a super hero\n"
     ]
    }
   ],
   "source": [
    "class Journal:\n",
    "    def __init__(self):\n",
    "        self.entries = []\n",
    "        self.count = 0\n",
    "\n",
    "    def add_entry(self, entry):\n",
    "        self.entries.append(entry)\n",
    "        self.count += 1\n",
    "\n",
    "    def remove_entry(self, pos):\n",
    "        del self.entries[pos]\n",
    "\n",
    "    def __str__(self):\n",
    "        return '\\n'.join(self.entries)\n",
    "\n",
    "    \"\"\"  \n",
    "        The below methods are not required to \n",
    "        be part of Journal class as it doesn't \n",
    "        need to have the functionality to save \n",
    "        and load the user. We will create a separate\n",
    "        class called PersistenceManager to create a \n",
    "        common functionality for persistence of \n",
    "        all the objects in the application\n",
    "    \"\"\"\n",
    "\n",
    "    def save(self, filename):\n",
    "        # write to file\n",
    "        file = open(filename, 'w')\n",
    "        file.write(str(self))\n",
    "        file.close()\n",
    "\n",
    "    def load(self, filename):\n",
    "        pass\n",
    "        # load from file\n",
    "\n",
    "    def load_from_web(self, filename):\n",
    "        pass\n",
    "        # load from web\n",
    "\n",
    "\n",
    "j = Journal()\n",
    "j.add_entry('I ate a bug')\n",
    "j.add_entry('I am a super hero')\n",
    "print(j)"
   ]
  },
  {
   "cell_type": "code",
   "execution_count": 2,
   "metadata": {},
   "outputs": [],
   "source": [
    "class PersistenceManager:\n",
    "    @staticmethod\n",
    "    def save(filename, journal):\n",
    "        # write to file\n",
    "        file = open(filename, 'w')\n",
    "        file.write(str(journal))\n",
    "        file.close()\n",
    "\n",
    "\n",
    "    def load(self, filename):\n",
    "        pass\n",
    "        # load from file\n",
    "\n",
    "    def load_from_web(self, filename):\n",
    "        pass\n",
    "        # load from web\n",
    "\n",
    "p = PersistenceManager()\n",
    "p.save('journal', j)\n"
   ]
  }
 ],
 "metadata": {
  "kernelspec": {
   "display_name": "Python 3.8.9 64-bit",
   "language": "python",
   "name": "python3"
  },
  "language_info": {
   "codemirror_mode": {
    "name": "ipython",
    "version": 3
   },
   "file_extension": ".py",
   "mimetype": "text/x-python",
   "name": "python",
   "nbconvert_exporter": "python",
   "pygments_lexer": "ipython3",
   "version": "3.8.9"
  },
  "orig_nbformat": 4,
  "vscode": {
   "interpreter": {
    "hash": "31f2aee4e71d21fbe5cf8b01ff0e069b9275f58929596ceb00d14d90e3e16cd6"
   }
  }
 },
 "nbformat": 4,
 "nbformat_minor": 2
}
